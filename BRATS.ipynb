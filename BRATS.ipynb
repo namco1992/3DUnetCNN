{
 "cells": [
  {
   "cell_type": "code",
   "execution_count": 1,
   "metadata": {
    "collapsed": true
   },
   "outputs": [],
   "source": [
    "import glob\n",
    "import os\n",
    "\n",
    "import SimpleITK as sitk\n",
    "import numpy as np\n",
    "\n",
    "import matplotlib.pyplot as plt\n",
    "%matplotlib inline"
   ]
  },
  {
   "cell_type": "code",
   "execution_count": 2,
   "metadata": {
    "collapsed": true
   },
   "outputs": [],
   "source": [
    "brats_folder = './data'\n",
    "config = {}\n",
    "config[\"modalities\"] = [\"T1\", \"T1c\", \"Flair\", \"T2\"]\n",
    "config['truth'] = ['truth']\n",
    "config[\"data_dir\"] = os.path.abspath(\"./data\")"
   ]
  },
  {
   "cell_type": "code",
   "execution_count": 3,
   "metadata": {
    "collapsed": true
   },
   "outputs": [],
   "source": [
    "# def get_image(subject_folder, name):\n",
    "#     return glob.glob(os.path.join(subject_folder, \"*\" + name + \".*\", \"*\" + name + \".*.mha\"))[0]\n",
    "\n",
    "def get_image(subject_folder, name):\n",
    "    return glob.glob(os.path.join(subject_folder, name + \".nii.gz\"))[0]"
   ]
  },
  {
   "cell_type": "code",
   "execution_count": 4,
   "metadata": {},
   "outputs": [
    {
     "name": "stdout",
     "output_type": "stream",
     "text": [
      "brats_2013_pat0001_1\n",
      "/Users/namco/Projects/3DUnetCNN/src/data/HGG/brats_2013_pat0001_1\n",
      "brats_2013_pat0002_1\n",
      "/Users/namco/Projects/3DUnetCNN/src/data/HGG/brats_2013_pat0002_1\n",
      "brats_2013_pat0003_1\n",
      "/Users/namco/Projects/3DUnetCNN/src/data/HGG/brats_2013_pat0003_1\n",
      "brats_2013_pat0004_1\n",
      "/Users/namco/Projects/3DUnetCNN/src/data/HGG/brats_2013_pat0004_1\n",
      "brats_2013_pat0005_1\n",
      "/Users/namco/Projects/3DUnetCNN/src/data/HGG/brats_2013_pat0005_1\n",
      "brats_2013_pat0006_1\n",
      "/Users/namco/Projects/3DUnetCNN/src/data/HGG/brats_2013_pat0006_1\n",
      "brats_2013_pat0007_1\n",
      "/Users/namco/Projects/3DUnetCNN/src/data/HGG/brats_2013_pat0007_1\n",
      "brats_2013_pat0008_1\n",
      "/Users/namco/Projects/3DUnetCNN/src/data/HGG/brats_2013_pat0008_1\n",
      "brats_2013_pat0009_1\n",
      "/Users/namco/Projects/3DUnetCNN/src/data/HGG/brats_2013_pat0009_1\n",
      "brats_2013_pat0010_1\n",
      "/Users/namco/Projects/3DUnetCNN/src/data/HGG/brats_2013_pat0010_1\n"
     ]
    }
   ],
   "source": [
    "for subject_folder in glob.glob(os.path.join(brats_folder, '*', '*'))[:10]:\n",
    "    if os.path.isdir(subject_folder):\n",
    "        subject = os.path.basename(subject_folder)\n",
    "        print(subject)\n",
    "        print(os.path.join(config['data_dir'], os.path.basename(os.path.dirname(subject_folder)),\n",
    "                                              subject))\n",
    "        \n",
    "subject_folder = glob.glob(os.path.join(brats_folder, '*', '*'))[:10]"
   ]
  },
  {
   "cell_type": "code",
   "execution_count": 6,
   "metadata": {},
   "outputs": [
    {
     "name": "stdout",
     "output_type": "stream",
     "text": [
      "./data/HGG/brats_2013_pat0001_1/T1.nii.gz\n",
      "./data/HGG/brats_2013_pat0001_1/T1c.nii.gz\n",
      "./data/HGG/brats_2013_pat0001_1/Flair.nii.gz\n",
      "./data/HGG/brats_2013_pat0001_1/T2.nii.gz\n",
      "./data/HGG/brats_2013_pat0001_1/truth.nii.gz\n"
     ]
    }
   ],
   "source": [
    "for modality in config['modalities'] + config['truth']:\n",
    "    print(get_image(subject_folder[0], modality))"
   ]
  },
  {
   "cell_type": "code",
   "execution_count": 31,
   "metadata": {
    "scrolled": true
   },
   "outputs": [
    {
     "data": {
      "image/png": "[encoded data removed]",
      "text/plain": [
       "<matplotlib.figure.Figure at 0x122316a20>"
      ]
     },
     "metadata": {},
     "output_type": "display_data"
    },
    {
     "data": {
      "image/png": "[encoded data removed]",
      "text/plain": [
       "<matplotlib.figure.Figure at 0x1223169e8>"
      ]
     },
     "metadata": {},
     "output_type": "display_data"
    },
    {
     "data": {
      "image/png": "[encoded data removed]",
      "text/plain": [
       "<matplotlib.figure.Figure at 0x12a303390>"
      ]
     },
     "metadata": {},
     "output_type": "display_data"
    },
    {
     "data": {
      "image/png": "[encoded data removed]",
      "text/plain": [
       "<matplotlib.figure.Figure at 0x12d668f28>"
      ]
     },
     "metadata": {},
     "output_type": "display_data"
    }
   ],
   "source": [
    "# Get all the images\n",
    "z = 50\n",
    "n = 1\n",
    "background_image = None\n",
    "for modality in config['modalities']:\n",
    "# for modality in ['T1', 'T1c']:\n",
    "    image_name = get_image(subject_folder, modality)\n",
    "    image = sitk.ReadImage(image_name)\n",
    "    if background_image:\n",
    "        background_image = sitk.And(image == 0, background_image)\n",
    "    else:\n",
    "        background_image = image == 0\n",
    "    plt.figure(figsize=(20,20))\n",
    "    plt.subplot(5, 1, n)\n",
    "    background_slice = sitk.GetArrayViewFromImage(background_image)[z,:,:]\n",
    "    plt.imshow(background_slice)\n",
    "#     slice_ = sitk.GetArrayViewFromImage(image)[z,:,:]\n",
    "#     background_slice = sitk.GetArrayViewFromImage(image==0)[z,:,:]\n",
    "\n",
    "#     plt.imshow(background_slice)\n",
    "    plt.title(modality)\n",
    "    n += 1\n"
   ]
  },
  {
   "cell_type": "code",
   "execution_count": 7,
   "metadata": {
    "scrolled": true
   },
   "outputs": [
    {
     "name": "stdout",
     "output_type": "stream",
     "text": [
      "(1.0, 1.0, 1.0)\n",
      "(1.0, 1.0, 1.0)\n",
      "(1.0, 1.0, 1.0)\n",
      "(1.0, 1.0, 1.0)\n",
      "(1.0, 1.0, 1.0)\n",
      "(1.0, 1.0, 1.0)\n",
      "(1.0, 1.0, 1.0)\n",
      "(1.0, 1.0, 1.0)\n",
      "(1.0, 1.0, 1.0)\n",
      "(1.0, 1.0, 1.0)\n"
     ]
    }
   ],
   "source": [
    "for item in subject_folder:\n",
    "    image = sitk.ReadImage(get_image(item, 'T1'))\n",
    "    print(image.GetSpacing())\n",
    "# slice = sitk.GetArrayViewFromImage(image)[z,:,:]\n",
    "# slice[100]\n",
    "# plt.imshow(slice)"
   ]
  },
  {
   "cell_type": "code",
   "execution_count": 12,
   "metadata": {
    "collapsed": true
   },
   "outputs": [],
   "source": [
    "image = sitk.ReadImage(get_image(subject_folder, '.MR_T2'))\n",
    "maskImage = sitk.OtsuThreshold(image, 0, 1, 200)\n",
    "image = sitk.Cast( image, sitk.sitkFloat32 )\n",
    "image = sitk.Shrink( image, [ 2 ] * image.GetDimension() )\n",
    "maskImage = sitk.Shrink( maskImage, [ 2 ] * image.GetDimension() )"
   ]
  },
  {
   "cell_type": "code",
   "execution_count": 46,
   "metadata": {
    "scrolled": false
   },
   "outputs": [
    {
     "data": {
      "text/plain": [
       "(240, 240, 155)"
      ]
     },
     "execution_count": 46,
     "metadata": {},
     "output_type": "execute_result"
    }
   ],
   "source": [
    "image.GetSize()\n",
    "# slice = sitk.GetArrayViewFromImage(image)[100,:,:]\n",
    "# plt.imshow(slice)\n",
    "# slice[100]"
   ]
  },
  {
   "cell_type": "code",
   "execution_count": 57,
   "metadata": {},
   "outputs": [
    {
     "data": {
      "text/plain": [
       "(240, 240, 155)"
      ]
     },
     "execution_count": 57,
     "metadata": {},
     "output_type": "execute_result"
    }
   ],
   "source": [
    "# slice = sitk.GetArrayViewFromImage(image)[100,:,:]\n",
    "image.GetSize()"
   ]
  },
  {
   "cell_type": "code",
   "execution_count": 14,
   "metadata": {
    "collapsed": true
   },
   "outputs": [],
   "source": [
    "corrector = sitk.N4BiasFieldCorrectionImageFilter()\n",
    "output = corrector.Execute( image, maskImage ) "
   ]
  },
  {
   "cell_type": "code",
   "execution_count": 36,
   "metadata": {},
   "outputs": [
    {
     "ename": "NameError",
     "evalue": "name 'output' is not defined",
     "output_type": "error",
     "traceback": [
      "\u001b[0;31m---------------------------------------------------------------------------\u001b[0m",
      "\u001b[0;31mNameError\u001b[0m                                 Traceback (most recent call last)",
      "\u001b[0;32m<ipython-input-36-0a838e0743d3>\u001b[0m in \u001b[0;36m<module>\u001b[0;34m()\u001b[0m\n\u001b[0;32m----> 1\u001b[0;31m \u001b[0mslice\u001b[0m \u001b[0;34m=\u001b[0m \u001b[0msitk\u001b[0m\u001b[0;34m.\u001b[0m\u001b[0mGetArrayViewFromImage\u001b[0m\u001b[0;34m(\u001b[0m\u001b[0moutput\u001b[0m\u001b[0;34m)\u001b[0m\u001b[0;34m[\u001b[0m\u001b[0;36m40\u001b[0m\u001b[0;34m,\u001b[0m\u001b[0;34m:\u001b[0m\u001b[0;34m,\u001b[0m\u001b[0;34m:\u001b[0m\u001b[0;34m]\u001b[0m\u001b[0;34m\u001b[0m\u001b[0m\n\u001b[0m\u001b[1;32m      2\u001b[0m \u001b[0mplt\u001b[0m\u001b[0;34m.\u001b[0m\u001b[0mimshow\u001b[0m\u001b[0;34m(\u001b[0m\u001b[0mslice\u001b[0m\u001b[0;34m)\u001b[0m\u001b[0;34m\u001b[0m\u001b[0m\n\u001b[1;32m      3\u001b[0m \u001b[0mslice\u001b[0m\u001b[0;34m[\u001b[0m\u001b[0;36m40\u001b[0m\u001b[0;34m]\u001b[0m\u001b[0;34m\u001b[0m\u001b[0m\n",
      "\u001b[0;31mNameError\u001b[0m: name 'output' is not defined"
     ]
    }
   ],
   "source": [
    "slice = sitk.GetArrayViewFromImage(output)[40,:,:]\n",
    "plt.imshow(slice)\n",
    "slice[40]"
   ]
  },
  {
   "cell_type": "code",
   "execution_count": null,
   "metadata": {
    "collapsed": true
   },
   "outputs": [],
   "source": [
    "image_array = sitk.GetArrayFromImage(image)\n",
    "normalized = (image_array - image_array.mean())/image_array.std()\n",
    "normalized_image = sitk.GetImageFromArray(normalized)\n",
    "normalized_image.GetSize()"
   ]
  },
  {
   "cell_type": "code",
   "execution_count": null,
   "metadata": {
    "collapsed": true
   },
   "outputs": [],
   "source": [
    "slice = sitk.GetArrayViewFromImage(normalized_image)[z,:,:]\n",
    "plt.imshow(slice)\n",
    "slice[100]"
   ]
  },
  {
   "cell_type": "code",
   "execution_count": null,
   "metadata": {
    "collapsed": true
   },
   "outputs": [],
   "source": [
    "# slice = sitk.GetArrayViewFromImage(normalized_image)[z,:,:]\n",
    "# plt.imshow(slice)\n",
    "rescaled = sitk.RescaleIntensity(normalized_image, 0, 1)\n",
    "slice = sitk.GetArrayViewFromImage(rescaled)[z,:,:]\n",
    "plt.imshow(slice)\n",
    "# slice[100]"
   ]
  },
  {
   "cell_type": "code",
   "execution_count": null,
   "metadata": {
    "collapsed": true
   },
   "outputs": [],
   "source": [
    "def resample(image, scan, new_spacing=[1,1,1]):\n",
    "    # Determine current pixel spacing\n",
    "    spacing = np.array([scan[0].SliceThickness] + scan[0].PixelSpacing, dtype=np.float32)\n",
    "\n",
    "    resize_factor = spacing / new_spacing\n",
    "    new_real_shape = image.shape * resize_factor\n",
    "    new_shape = np.round(new_real_shape)\n",
    "    real_resize_factor = new_shape / image.shape\n",
    "    new_spacing = spacing / real_resize_factor\n",
    "    \n",
    "    image = scipy.ndimage.interpolation.zoom(image, real_resize_factor, mode='nearest')\n",
    "    \n",
    "    return image, new_spacing"
   ]
  }
 ],
 "metadata": {
  "kernelspec": {
   "display_name": "Python 3",
   "language": "python",
   "name": "python3"
  },
  "language_info": {
   "codemirror_mode": {
    "name": "ipython",
    "version": 3
   },
   "file_extension": ".py",
   "mimetype": "text/x-python",
   "name": "python",
   "nbconvert_exporter": "python",
   "pygments_lexer": "ipython3",
   "version": "3.5.3"
  }
 },
 "nbformat": 4,
 "nbformat_minor": 2
}
